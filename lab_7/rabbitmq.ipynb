{
 "cells": [
  {
   "cell_type": "markdown",
   "metadata": {},
   "source": [
    "# Messaging system with *RabbitMQ* and CSharp\n",
    "\n",
    "Na zajęciach zostaną przedstawione następujące zagadnienia:\n",
    "\n",
    "- terminologia związana z przetwarzaniem kolejkowym,\n",
    "- opis usługi *RabbitMQ*, w tym uruchomienie, wysyłanie i odbieranie wiadomości,\n",
    "- podstawy *Event Sourcing*.\n",
    "\n",
    "## Wprowadzenie\n",
    "\n",
    "Kolejka jako struktura danych pod względem konstrukcji jest niezwykle prosta. Należy wyszczególnić następujące operacje na kolejce:\n",
    "- dodanie obiektu do kolejki,\n",
    "- pobranie elementu z kolejki oraz jego obsługa (co powoduje jego usunięcie).\n",
    "\n",
    "Pod względem algorytmów i struktur danych kolejki mogą być typu:\n",
    " - *LIFO* (*last in first out*) z kolejki pobierany jest najstarszy element.\n",
    " - *FIFO* (*first in first out*) z kolejki pobierany jest najmłodszy element.\n",
    " - *Priority Queue* z kolejki pobierany jest element o najwyższym priorytecie, co wymaga sortowania w trakcie dodawania lub pobierania elementu.\n",
    "\n",
    "Implementacja kolejki jako systemu do obsługi zdarzeń jest efektywne, gdyż nie ma przestojów w procesowaniu danych. Po zakończeniu jednego zadania proces bierze następne, co jest niezwykle efektywne w szczególności tam, gdzie czas trwania przetwarzania jest nieznany. W nomenklaturze systemów zdarzeniowych implementacje kolejek i całe oprogramowanie wokół nazywamy brokerem wiadomości, gdzie wiadomością w naszym przypadku jest zdarzenie. Za operację dodawania odpowiedzialny jest publisher, a za pobieranie danych subskrybent. W zależności od liczby publisherów mamy:\n",
    "- `queue` - klasyczna kolejka z wieloma źródłami zdarzeń,\n",
    "- `event bus` - zawsze tylko jedno źródło zdarzeń.\n",
    "\n",
    "Kanałem komunikacyjnym jest logiczne powiązanie producenta, brokera i konsumenta wiadomości. *Router* (*Exchange*) odpowiada za wysłanie komunikatu do konkretnej kolejki na podstawie treści zawartej w wiadomości. Poniżej znajduje się diagram prezentujący kolejne komponenty komunikacji w *RabbitMQ*."
   ]
  },
  {
   "cell_type": "markdown",
   "metadata": {},
   "source": [
    "<center>\n",
    "<img src='data:image/svg+xml;base64,\n",
    "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' />\n",
    "</center>"
   ]
  },
  {
   "cell_type": "markdown",
   "metadata": {},
   "source": [
    "Zaletami stosowania architektury, w której komunikacja obsługiwana jest za pomocą kolejki:\n",
    "\n",
    "- luźne powiązania między obiektami (decoupling),\n",
    "- łatwa skalowalność ograniczona jedynie do przepustowości samej kolejki wystarczy dodać więcej procesów subskrybentów,\n",
    "- łączenie wielu języków programowania i platform w ramach jednego systemu,\n",
    "- większa efektywność niż *HTTP*.\n",
    "\n",
    "## Uruchomienie RabbitMQ"
   ]
  },
  {
   "cell_type": "code",
   "execution_count": 2,
   "metadata": {
    "dotnet_interactive": {
     "language": "csharp"
    },
    "vscode": {
     "languageId": "polyglot-notebook"
    }
   },
   "outputs": [
    {
     "ename": "Error",
     "evalue": "(1,9): error CS1002: ; expected\r\n(1,15): error CS1002: ; expected\r\n(1,24): error CS1002: ; expected\r\n(1,29): error CS1002: ; expected\r\n(1,29): error CS7017: Member definition, statement, or end-of-file expected\r\n(1,39): error CS1002: ; expected\r\n(1,43): error CS1002: ; expected\r\n(1,43): error CS7017: Member definition, statement, or end-of-file expected\r\n(1,51): error CS1002: ; expected\r\n(1,60): error CS1002: ; expected\r\n(1,70): error CS1002: ; expected",
     "output_type": "error",
     "traceback": [
      "(1,9): error CS1002: ; expected\r\n",
      "(1,15): error CS1002: ; expected\r\n",
      "(1,24): error CS1002: ; expected\r\n",
      "(1,29): error CS1002: ; expected\r\n",
      "(1,29): error CS7017: Member definition, statement, or end-of-file expected\r\n",
      "(1,39): error CS1002: ; expected\r\n",
      "(1,43): error CS1002: ; expected\r\n",
      "(1,43): error CS7017: Member definition, statement, or end-of-file expected\r\n",
      "(1,51): error CS1002: ; expected\r\n",
      "(1,60): error CS1002: ; expected\r\n",
      "(1,70): error CS1002: ; expected"
     ]
    }
   ],
   "source": [
    "!docker run --rm -d -p 15672:15672 -p 5672:5672 --name aoop-rabbitmq rabbitmq:3-management"
   ]
  },
  {
   "cell_type": "markdown",
   "metadata": {},
   "source": [
    "Polecenie `docker run` uruchamia kontener z obrazem `rabbitmq:3-management` (jeśli go nie ma zostanie pobrany). Parametr `--rm` powoduje posprzątanie po kontenerze kiedy zostanie wyłączony, `-d` oznacza uruchomienie kontenera jako zadanie w tle, `--name` nadaje nazwę naszemu kontenerowi, a `-p` oznacza mapowanie portu hosta (port używany w przeglądarce / aplikacji zewnętrznej) do portów wewnątrz kontenera. Pierwszy port `15672` będzie używany przez wizualnego managera *RabbitMQ*, a dostęp do *API* za pomocą `5672` (`localhost:5672`). Domyślny login i hasło to: `guest`, `guest`, co można zmienić za pomocą przekazania odpowiedniej zmiennej środowiskowej do polecenia `docker run`. Po wejściu na adres `http://localhost:15672` powinna pokazać się domyślna strona konsoli administracyjnej *RabiitMQ*.\n",
    "\n",
    "## Wysyłanie i odbieranie wiadomości\n",
    "\n",
    "Zanim zostanie omówiony sposób wysyłania wiadomości, należy wyszczególnić podstawowe informacje związane z konfiguracją *RabbitMQ*.\n",
    "\n",
    "Wiadomość składa się z następujących elementów:\n",
    "- `routing key` - pojedyncze bądź wielokrotne słowo używane do trasowania wiadomości do kolejki,\n",
    "- `headers` - kolekcja typu klucz wartość, która podobnie jak w przypadku `routing key` może być używana do trasowania wiadomości.\n",
    "- `payload` - właściwe informacje, które subskrybent wymaga do przeprocesowania wiadomości.\n",
    "- `delivery mode` może przyjąć postać:\n",
    "    - `persistent` - wiadomość będzie serializowana na dysk i w razie awarii odtworzona z niego,\n",
    "    - `transient` - jest przechowana w pamięci,\n",
    "- `priority` - priorytet wiadomości, użyteczny w kontekście bardzo rozbudowanego systemu, gdzie zdarzenia nie są obsługiwane w czasie rzeczywistym.\n",
    "\n",
    "Wiadomości nie są przesyłane przez producenta bezpośrednio do kolejki. Za ten element odpowiada *router* (*Exchange*), który może być typu:\n",
    "- `fanout` - wysyła wiadomość do wszystkich powiązanych kolejek (bez filtracji i routowania),\n",
    "- `direct` wysyła do pierwszej kolejki na podstawie `routing key`, często jako przykład podaje się wysyłanie logów w zależności od statusu `error`, `warning`, `info`. Dla jednego `Exchange` dodanych jest wiele kolejek, które łączone są na podstawie `routing key` przechowujący jeden ze statusów,\n",
    "- `topic` działa podobnie jak `direct`, z tą różnicą, że umożlwia przekazywanie do `aggregate key` wildcards,\n",
    "- `headers`\n",
    "\n",
    "Najpierw należy zainstalować zależności."
   ]
  },
  {
   "cell_type": "code",
   "execution_count": 1,
   "metadata": {
    "dotnet_interactive": {
     "language": "csharp"
    },
    "vscode": {
     "languageId": "polyglot-notebook"
    }
   },
   "outputs": [],
   "source": [
    "#r \"nuget: RabbitMQ.Client, 6.2.1\""
   ]
  },
  {
   "cell_type": "markdown",
   "metadata": {},
   "source": [
    "Zakładając, że `docker` container działa, domyślną konfiguracją będzie poniższa. Funkcja tworzy fizyczne połączenie z usługą *RabbitMQ*."
   ]
  },
  {
   "cell_type": "code",
   "execution_count": null,
   "metadata": {
    "vscode": {
     "languageId": "polyglot-notebook"
    }
   },
   "outputs": [],
   "source": [
    "using RabbitMQ.Client;\n",
    "\n",
    "public IConnection CreateConnection()\n",
    "{\n",
    "    ConnectionFactory factory = new ConnectionFactory();\n",
    "    factory.HostName = \"localhost\";\n",
    "    factory.VirtualHost = \"/\";\n",
    "    factory.Port = 5672;\n",
    "    factory.UserName = \"guest\";\n",
    "    factory.Password = \"guest\";\n",
    "    return factory.CreateConnection();\n",
    "}"
   ]
  },
  {
   "cell_type": "markdown",
   "metadata": {},
   "source": [
    "W kodzie zostaną zdefiniowane dwie komórki, jedna do wysyłania, druga do odbierania wiadomości. Kod będzie w ten jednym module, co ma jedynie uzasadnienie w przypadku Jupyter Notebooka. W przypadku normalnej aplikacji powinny być to dwa procesy. Każdy typ trasowania zostanie opisany na przykładzie."
   ]
  },
  {
   "cell_type": "markdown",
   "metadata": {},
   "source": [
    "### Trasowanie jako `Fanout`\n",
    "\n",
    "Najpierw należy zdefiniować `Exchange` (router) i `Queue`. Jeśli, nie istnieją *RabbitMQ* je utworzy, jeśli istnieją zostanie zwrócony do nich uchwyt.\n"
   ]
  },
  {
   "cell_type": "code",
   "execution_count": 3,
   "metadata": {
    "vscode": {
     "languageId": "polyglot-notebook"
    }
   },
   "outputs": [],
   "source": [
    "public IModel SetupChannelFanout(IConnection conn)\n",
    "{\n",
    "    IModel channel = conn.CreateModel();\n",
    "    \n",
    "    channel.ExchangeDeclare(exchange: \"aoop-exchange-fanout\", \n",
    "                            type: \"fanout\", \n",
    "                            durable: true,                             \n",
    "                            autoDelete: false, \n",
    "                            arguments: null);\n",
    "\n",
    "    channel.QueueDeclare(queue: \"aoop-queue-fanout\",                          \n",
    "                         durable: true, \n",
    "                         exclusive: false,\n",
    "                         autoDelete: false, \n",
    "                         arguments: null);\n",
    "\n",
    "    channel.QueueBind(\"aoop-queue-fanout\", \"aoop-exchange-fanout\", \"\");\n",
    "    \n",
    "    return channel;\n",
    "}"
   ]
  },
  {
   "cell_type": "markdown",
   "metadata": {},
   "source": [
    "Typ został zadeklarowany w `type`, z kolei `durable` oznacza tutaj fizyczną reprezentację wiadomości na dysku, dzięki czemu w przypadku restartu usługi wiadomość zostanie dostarczona. Parametr `autoDelete` ustawiony na `True` powoduje usunięcie `Exchange` / `Queue` w momencie, gdy nie będzie podłączonych żadnych producentów / konsumentów wiadomości. Parametr `exclusive` oznacza , że kolejka utworzona jest jednorozowo. \n",
    "Niemniej jednak, jeśli zachodzi potrzeba ręcznego usunięcia utworzonych obiektów, można to zróbić na wiele sposób. Najprostszym jest wywołanie funkcji `CleanUpChannel`."
   ]
  },
  {
   "cell_type": "code",
   "execution_count": 4,
   "metadata": {
    "vscode": {
     "languageId": "polyglot-notebook"
    }
   },
   "outputs": [],
   "source": [
    "public void CleanUpChannel(IModel channel)\n",
    "{\n",
    "    channel.QueueDelete(\"aoop-queue\");    \n",
    "    channel.ExchangeDelete(\"aoop-exchange\");\n",
    "}"
   ]
  },
  {
   "cell_type": "markdown",
   "metadata": {},
   "source": [
    "Następne komórki zawierają kod dodania wiadomości (implementacja *publisher*)."
   ]
  },
  {
   "cell_type": "code",
   "execution_count": 5,
   "metadata": {
    "vscode": {
     "languageId": "polyglot-notebook"
    }
   },
   "outputs": [],
   "source": [
    "int msgId = 0;"
   ]
  },
  {
   "cell_type": "code",
   "execution_count": 1,
   "metadata": {
    "dotnet_interactive": {
     "language": "csharp"
    },
    "vscode": {
     "languageId": "polyglot-notebook"
    }
   },
   "outputs": [
    {
     "ename": "Error",
     "evalue": "(3,8): error CS0246: The type or namespace name 'IConnection' could not be found (are you missing a using directive or an assembly reference?)\r\n(3,27): error CS0103: The name 'CreateConnection' does not exist in the current context\r\n(5,12): error CS0246: The type or namespace name 'IModel' could not be found (are you missing a using directive or an assembly reference?)\r\n(5,29): error CS0103: The name 'SetupChannelFanout' does not exist in the current context\r\n(7,32): error CS0103: The name 'msgId' does not exist in the current context",
     "output_type": "error",
     "traceback": [
      "(3,8): error CS0246: The type or namespace name 'IConnection' could not be found (are you missing a using directive or an assembly reference?)\r\n",
      "(3,27): error CS0103: The name 'CreateConnection' does not exist in the current context\r\n",
      "(5,12): error CS0246: The type or namespace name 'IModel' could not be found (are you missing a using directive or an assembly reference?)\r\n",
      "(5,29): error CS0103: The name 'SetupChannelFanout' does not exist in the current context\r\n",
      "(7,32): error CS0103: The name 'msgId' does not exist in the current context"
     ]
    }
   ],
   "source": [
    "using System.Text;\n",
    "\n",
    "using (IConnection conn = CreateConnection())\n",
    "{\n",
    "    using (IModel channel = SetupChannelFanout(conn))         \n",
    "    {\n",
    "        var msg = $\"Message {++msgId}\";\n",
    "        \n",
    "        channel.BasicPublish(\"aoop-exchange\",\"\", null, Encoding.UTF8.GetBytes(msg));\n",
    "        \n",
    "        Console.WriteLine($\"Message sended: {msg}\");            \n",
    "    }\n",
    "}"
   ]
  },
  {
   "cell_type": "markdown",
   "metadata": {},
   "source": [
    "Słowa kluczowe `using` są przydatne, gdyż mamy pewność, że zarówno kanał jak i fizyczne połączenie będą w zamknięte przed zakończeniem programu. Wiadomość musi być zamieniona na sekwencje bajtów (binary serialization), co umożliwia przesyłanie dowolnego formatu danych, przed ich serializacją. Kolejna komórka odbiera utworzone wiadomości (implementacja konsumenta)."
   ]
  },
  {
   "cell_type": "code",
   "execution_count": 21,
   "metadata": {
    "vscode": {
     "languageId": "polyglot-notebook"
    }
   },
   "outputs": [],
   "source": [
    "using System.Text;\n",
    "using RabbitMQ.Client.Events;\n",
    "using System.Threading;\n",
    "\n",
    "using (IConnection conn = CreateConnection())\n",
    "{\n",
    "    using (IModel channel = SetupChannelFanout(conn))         \n",
    "    {\n",
    "        var consumer = new EventingBasicConsumer(channel);\n",
    "        consumer.Received += (s,e) => {\n",
    "            var body = e.Body.ToArray();\n",
    "            \n",
    "            string message = Encoding.UTF8.GetString(body);\n",
    "            \n",
    "            Console.WriteLine($\"Message: {message} from {e.DeliveryTag}\");\n",
    "\n",
    "            //channel.BasicAck(e.DeliveryTag, false); if autoAck = false in BasicConsume\n",
    "            \n",
    "            //if error call BasicNack();                                  \n",
    "        };\n",
    "\n",
    "        var consumerTag = channel.BasicConsume(queue: \"aoop-queue\", \n",
    "                                               autoAck: true, \n",
    "                                               consumer: consumer);          \n",
    "    }\n",
    "}"
   ]
  },
  {
   "cell_type": "markdown",
   "metadata": {},
   "source": [
    "Po przyjęciu i poprawnym obsłużeniu wiadomości należy przekazać komunikat *ack* do usługi *RabbitMQ*. W przeciwnym przypadku ten sam komunikat zostanie przekazany z powrotem do kolejki. Można to zrobić na dwa sposoby ręcznie lub za pomocą flagi `autoAck`."
   ]
  },
  {
   "cell_type": "markdown",
   "metadata": {},
   "source": [
    "### Trasowanie jako `Direct`\n",
    "\n",
    "Wiadomość trasowana jest na podstawie `aggregate key`. Poniżej znajduje się przykład konfiguracji."
   ]
  },
  {
   "cell_type": "code",
   "execution_count": 23,
   "metadata": {
    "vscode": {
     "languageId": "polyglot-notebook"
    }
   },
   "outputs": [],
   "source": [
    "public IModel SetupChannelDirect(IConnection conn)\n",
    "{\n",
    "    IModel channel = conn.CreateModel();\n",
    "    \n",
    "    channel.ExchangeDeclare(exchange: \"aoop-exchange-direct\", \n",
    "                            type: \"direct\", \n",
    "                            durable: true,                             \n",
    "                            autoDelete: false, \n",
    "                            arguments: null);\n",
    "\n",
    "    channel.QueueDeclare(queue: \"aoop-queue-direct-info\",                          \n",
    "                         durable: true, \n",
    "                         exclusive: false,\n",
    "                         autoDelete: false, \n",
    "                         arguments: null);\n",
    "                         \n",
    "    channel.QueueDeclare(queue: \"aoop-queue-direct-warning\",                          \n",
    "                         durable: true, \n",
    "                         exclusive: false,\n",
    "                         autoDelete: false, \n",
    "                         arguments: null);\n",
    "                         \n",
    "    channel.QueueDeclare(queue: \"aoop-queue-direct-error\",                          \n",
    "                         durable: true, \n",
    "                         exclusive: false,\n",
    "                         autoDelete: false, \n",
    "                         arguments: null);                             \n",
    "    \n",
    "    channel.QueueBind(\"aoop-queue-direct-info\", \"aoop-exchange-direct\", \"info\");\n",
    "    channel.QueueBind(\"aoop-queue-direct-warning\", \"aoop-exchange-direct\", \"warning\");\n",
    "    channel.QueueBind(\"aoop-queue-direct-error\", \"aoop-exchange-direct\", \"error\");\n",
    "    \n",
    "    return channel;\n",
    "}        "
   ]
  },
  {
   "cell_type": "markdown",
   "metadata": {},
   "source": [
    "Połączenie `Queue` i `Exchange` następuje przy użyciu `QueueBind`. Dodatkowo zdefiniowany jest tam `aggregate key`, który używany jest do trasowania."
   ]
  },
  {
   "cell_type": "code",
   "execution_count": 36,
   "metadata": {
    "vscode": {
     "languageId": "polyglot-notebook"
    }
   },
   "outputs": [],
   "source": [
    "using System.Text;\n",
    "\n",
    "using (IConnection conn = CreateConnection())\n",
    "{\n",
    "    using (IModel channel = SetupChannelDirect(conn))         \n",
    "    {\n",
    "        var msg = $\"Message {++msgId}\";\n",
    "        \n",
    "        channel.BasicPublish(\"aoop-exchange-direct\", \n",
    "                             \"info\",//aggregate key \n",
    "                             null, \n",
    "                             Encoding.UTF8.GetBytes($\"Info: {msg}\"));\n",
    "\n",
    "        channel.BasicPublish(\"aoop-exchange-direct\", \n",
    "                             \"warning\", //aggregate key\n",
    "                             null, \n",
    "                             Encoding.UTF8.GetBytes($\"Warning: {msg}\"));\n",
    "\n",
    "        channel.BasicPublish(\"aoop-exchange-direct\", \n",
    "                             \"error\", //aggregate key\n",
    "                             null, \n",
    "                             Encoding.UTF8.GetBytes($\"Error: {msg}\"));\n",
    "        \n",
    "        Console.WriteLine($\"Messages sended: {msg}\");            \n",
    "    }\n",
    "}"
   ]
  },
  {
   "cell_type": "markdown",
   "metadata": {},
   "source": [
    "Następny kod zawiera implementacje *subscriber*."
   ]
  },
  {
   "cell_type": "code",
   "execution_count": 37,
   "metadata": {
    "vscode": {
     "languageId": "polyglot-notebook"
    }
   },
   "outputs": [],
   "source": [
    "using System.Text;\n",
    "using RabbitMQ.Client.Events;\n",
    "using System.Threading;\n",
    "\n",
    "using (IConnection conn = CreateConnection())\n",
    "{\n",
    "    using (IModel channel = SetupChannelDirect(conn))         \n",
    "    {\n",
    "        var consumer = new EventingBasicConsumer(channel);\n",
    "        consumer.Received += (s,e) => {\n",
    "            var body = e.Body.ToArray();\n",
    "            \n",
    "            string message = Encoding.UTF8.GetString(body);\n",
    "            \n",
    "            Console.WriteLine($\"Message: {message} from {e.DeliveryTag}\");                    \n",
    "        };\n",
    "\n",
    "        channel.BasicConsume(queue: \"aoop-queue-direct-info\", \n",
    "                                               autoAck: true, \n",
    "                                               consumer: consumer); \n",
    "                                               \n",
    "        channel.BasicConsume(queue: \"aoop-queue-direct-warning\", \n",
    "                                               autoAck: true, \n",
    "                                               consumer: consumer); \n",
    "                                               \n",
    "        channel.BasicConsume(queue: \"aoop-queue-direct-error\", \n",
    "                                               autoAck: true, \n",
    "                                               consumer: consumer); \n",
    "    }\n",
    "}"
   ]
  },
  {
   "cell_type": "markdown",
   "metadata": {},
   "source": [
    "### Trasowanie `Topic`\n",
    "\n",
    "Działa podobnie jak `Direct` jednak ma więcej możliwość. Do konfiguracji na połączeniu `Queue` i `Exchange` w `aggregate key` można przekazać różne wzorce.\n",
    "\n",
    "* Asterisk `*` umożlwia podstawienie dokładnie jednego dowolnego klucza agregującego. Przykładowo `*.images` będzie pasował do kolejki `converting.images`, `delete.images`,\n",
    "* Hash `#` jest bardziej ogólny i zastępuje jedno lub więcej słów np. `#.images` pasuje do `png.converting.images`, `jpg.convering.images` oraz `converting.images`. \n",
    "\n",
    "Dodatkowo należy pamiętać, że konfiguracja ta jest na poziomie trasowania, nie konkretnej wiadomości. Poniżej znajduje się przykład użycia tego typu trasowania."
   ]
  },
  {
   "cell_type": "code",
   "execution_count": 51,
   "metadata": {
    "vscode": {
     "languageId": "polyglot-notebook"
    }
   },
   "outputs": [],
   "source": [
    "public IModel SetupChannelTopic(IConnection conn)\n",
    "{\n",
    "    IModel channel = conn.CreateModel();\n",
    "    \n",
    "    channel.ExchangeDeclare(exchange: \"aoop-exchange-topic\", \n",
    "                            type: \"topic\", \n",
    "                            durable: true,                             \n",
    "                            autoDelete: false, \n",
    "                            arguments: null);\n",
    "\n",
    "    channel.QueueDeclare(queue: \"aoop-queue-topic-q1\",\n",
    "                         durable: true, \n",
    "                         exclusive: false,\n",
    "                         autoDelete: false, \n",
    "                         arguments: null);\n",
    "                         \n",
    "    channel.QueueDeclare(queue: \"aoop-queue-topic-q2\",                          \n",
    "                         durable: true, \n",
    "                         exclusive: false,\n",
    "                         autoDelete: false, \n",
    "                         arguments: null);\n",
    "                         \n",
    "    channel.QueueDeclare(queue: \"aoop-queue-topic-q3\",                          \n",
    "                         durable: true, \n",
    "                         exclusive: false,\n",
    "                         autoDelete: false, \n",
    "                         arguments: null);                             \n",
    "    \n",
    "    channel.QueueBind(\"aoop-queue-topic-q1\", \"aoop-exchange-topic\", \"aoop-queue-topic.*\");\n",
    "    channel.QueueBind(\"aoop-queue-topic-q2\", \"aoop-exchange-topic\", \"aoop-queue-topic.conv.bmp\");\n",
    "    channel.QueueBind(\"aoop-queue-topic-q3\", \"aoop-exchange-topic\", \"aoop-queue-topic.#\");\n",
    "    \n",
    "    return channel;\n",
    "}        "
   ]
  },
  {
   "cell_type": "code",
   "execution_count": 52,
   "metadata": {
    "vscode": {
     "languageId": "polyglot-notebook"
    }
   },
   "outputs": [],
   "source": [
    "using System.Text;\n",
    "\n",
    "using (IConnection conn = CreateConnection())\n",
    "{\n",
    "    using (IModel channel = SetupChannelTopic(conn))         \n",
    "    {\n",
    "        var msg = $\"Message {++msgId}\";\n",
    "        \n",
    "        channel.BasicPublish(\"aoop-exchange-topic\", \n",
    "                             \"aoop-queue-topic.push\",//aggregate key \n",
    "                             null, \n",
    "                             Encoding.UTF8.GetBytes($\"Push operation: {msg}\"));\n",
    "\n",
    "        channel.BasicPublish(\"aoop-exchange-topic\", \n",
    "                             \"aoop-queue-topic.conv.bmp\", //aggregate key\n",
    "                             null, \n",
    "                             Encoding.UTF8.GetBytes($\"Bitmap as: {msg}\"));\n",
    "        \n",
    "        Console.WriteLine($\"Messages sended: {msg}\");            \n",
    "    }\n",
    "}"
   ]
  },
  {
   "cell_type": "code",
   "execution_count": 53,
   "metadata": {
    "vscode": {
     "languageId": "polyglot-notebook"
    }
   },
   "outputs": [],
   "source": [
    "using System.Text;\n",
    "using RabbitMQ.Client.Events;\n",
    "using System.Threading;\n",
    "\n",
    "using (IConnection conn = CreateConnection())\n",
    "{\n",
    "    using (IModel channel = SetupChannelTopic(conn))         \n",
    "    {\n",
    "        var consumer = new EventingBasicConsumer(channel);\n",
    "        consumer.Received += (s,e) => {\n",
    "            var body = e.Body.ToArray();\n",
    "            \n",
    "            string message = Encoding.UTF8.GetString(body);\n",
    "            \n",
    "            Console.WriteLine($\"Message: {message} from {e.DeliveryTag}\");                    \n",
    "        };\n",
    "\n",
    "        channel.BasicConsume(queue: \"aoop-queue-topic-q1\", \n",
    "                                               autoAck: true, \n",
    "                                               consumer: consumer); \n",
    "                                               \n",
    "        channel.BasicConsume(queue: \"aoop-queue-topic-q2\", \n",
    "                                               autoAck: true, \n",
    "                                               consumer: consumer); \n",
    "                                               \n",
    "        channel.BasicConsume(queue: \"aoop-queue-topic-q3\", \n",
    "                                               autoAck: true, \n",
    "                                               consumer: consumer); \n",
    "    }\n",
    "}"
   ]
  },
  {
   "cell_type": "markdown",
   "metadata": {},
   "source": [
    "Każda z dwóch wiadomości została wysłana na dwie kolejki. Wzorzec `aoop-queue-topic.#` pasuje do wszystkich `aggregate key`.\n",
    "\n",
    "### Trasowanie `Headers`\n",
    "\n",
    "Umożliwia wybieranie kolejki na podstawie nagłówka (w wiadomości przekazywane jako `arguments`). Dodatkowo binding może zawierać konfigurację `x-match` w swojej definicji w dwóch wersjach `all` lub `any`. Pierwsza wersja oznacza, że każdy atrybut musi się zgadzać między wiadomością, a połączeniem `Queue` i `Exchange`. Z kolei `any` oznacza, że co najmniej jeden nagłówek musi pasować. Ilustruje to poniższy przykład."
   ]
  },
  {
   "cell_type": "code",
   "execution_count": 55,
   "metadata": {
    "vscode": {
     "languageId": "polyglot-notebook"
    }
   },
   "outputs": [],
   "source": [
    "public IModel SetupChannelTopic(IConnection conn)\n",
    "{\n",
    "    IModel channel = conn.CreateModel();\n",
    "    \n",
    "    channel.ExchangeDeclare(exchange: \"aoop-exchange-headers\", \n",
    "                            type: \"headers\", \n",
    "                            durable: true,                             \n",
    "                            autoDelete: false, \n",
    "                            arguments: null);\n",
    "\n",
    "    channel.QueueDeclare(queue: \"aoop-queue-headers-q1\",\n",
    "                         durable: true, \n",
    "                         exclusive: false,\n",
    "                         autoDelete: false, \n",
    "                         arguments: null);\n",
    "                         \n",
    "    channel.QueueDeclare(queue: \"aoop-queue-headers-q2\",                          \n",
    "                         durable: true, \n",
    "                         exclusive: false,\n",
    "                         autoDelete: false, \n",
    "                         arguments: null);        \n",
    "    \n",
    "    channel.QueueBind(\"aoop-queue-headers-q1\", \"aoop-exchange-headers\", \"\", new Dictionary<string, object>()\n",
    "                                                                            {\n",
    "                                                                                {\"x-match\",\"all\" },\n",
    "                                                                                {\"job\",\"convert\" },\n",
    "                                                                                {\"format\",\"jpeg\" }\n",
    "                                                                            });\n",
    "                                                                            \n",
    "    channel.QueueBind(\"aoop-queue-headers-q2\", \"aoop-exchange-headers\", \"\", new Dictionary<string, object>()\n",
    "                                                                            {\n",
    "                                                                                {\"x-match\",\"any\" },\n",
    "                                                                                {\"job\",\"convert\" },\n",
    "                                                                                {\"format\",\"jpeg\" }\n",
    "                                                                            });                                                                                \n",
    "    return channel;\n",
    "}     "
   ]
  },
  {
   "cell_type": "markdown",
   "metadata": {},
   "source": [
    "Ostatni argument funkcji `QueueBind` przyjmuje listę atrybutów związanych z trasowaniem wiadomości do konkretnej kolejki. Pierwszy binding oznacza trasowanie występowania w wiadomości wszystkich pól w `headers`. Kolejny przykład ilustruje w jaki sposób wysyłać i odbierać tego typu wiadomości."
   ]
  },
  {
   "cell_type": "code",
   "execution_count": 56,
   "metadata": {
    "vscode": {
     "languageId": "polyglot-notebook"
    }
   },
   "outputs": [],
   "source": [
    "using System.Text;\n",
    "\n",
    "using (IConnection conn = CreateConnection())\n",
    "{\n",
    "    using (IModel channel = SetupChannelTopic(conn))         \n",
    "    {\n",
    "        var msg = $\"Message {++msgId}\";\n",
    "        \n",
    "        IBasicProperties props = channel.CreateBasicProperties();\n",
    "        props.Headers = new Dictionary<string, object>();\n",
    "        props.Headers.Add(\"job\", \"convert\");\n",
    "        props.Headers.Add(\"format\", \"jpeg\");\n",
    "        \n",
    "        channel.BasicPublish(\"aoop-exchange-headers\", \n",
    "                             \"\",//aggregate key \n",
    "                             props, \n",
    "                             Encoding.UTF8.GetBytes($\"Conversion operation jpeg: {msg}\"));\n",
    "                             \n",
    "        props = channel.CreateBasicProperties();\n",
    "        props.Headers = new Dictionary<string, object>();\n",
    "        props.Headers.Add(\"job\", \"convert\");\n",
    "        props.Headers.Add(\"format\", \"bmp\");                             \n",
    "\n",
    "        channel.BasicPublish(\"aoop-exchange-headers\", \n",
    "                             \"\", //aggregate key\n",
    "                             props, \n",
    "                             Encoding.UTF8.GetBytes($\"Conversion operation bmp: {msg}\"));                                            \n",
    "        \n",
    "        Console.WriteLine($\"Messages sended: {msg}\");            \n",
    "    }\n",
    "}"
   ]
  },
  {
   "cell_type": "markdown",
   "metadata": {},
   "source": [
    "Należy zauważyć, że `aggregate key` jest pusty z powodu tego, że nie będziemy trasować wiadomości na jego podstawie. Kolejny przykład odbiera wiadomość."
   ]
  },
  {
   "cell_type": "code",
   "execution_count": 57,
   "metadata": {
    "vscode": {
     "languageId": "polyglot-notebook"
    }
   },
   "outputs": [],
   "source": [
    "using System.Text;\n",
    "using RabbitMQ.Client.Events;\n",
    "using System.Threading;\n",
    "\n",
    "using (IConnection conn = CreateConnection())\n",
    "{\n",
    "    using (IModel channel = SetupChannelTopic(conn))         \n",
    "    {\n",
    "        var consumer = new EventingBasicConsumer(channel);\n",
    "        consumer.Received += (s,e) => {\n",
    "            var body = e.Body.ToArray();\n",
    "            \n",
    "            string message = Encoding.UTF8.GetString(body);\n",
    "            \n",
    "            Console.WriteLine($\"Message: {message} from {e.DeliveryTag}\");                    \n",
    "        };\n",
    "\n",
    "        channel.BasicConsume(queue: \"aoop-queue-headers-q1\", \n",
    "                                               autoAck: true, \n",
    "                                               consumer: consumer); \n",
    "                                               \n",
    "        channel.BasicConsume(queue: \"aoop-queue-headers-q2\", \n",
    "                                               autoAck: true, \n",
    "                                               consumer: consumer);                                            \n",
    "    }\n",
    "}"
   ]
  },
  {
   "cell_type": "markdown",
   "metadata": {},
   "source": [
    "Pierwsza wiadomość pasuje zarówno do warunku `x-match` `any` oraz  nagłówków `convert` i `jpeg`."
   ]
  },
  {
   "cell_type": "markdown",
   "metadata": {},
   "source": [
    "## Event Sourcing\n",
    "\n",
    "Jeśli przyjąć, że zamiast wiadomości system kolejkowy używany jest do wysyłania i odbierania zdarzeń w systemie otrzymuje się tzw. *Event driven architecture*. Jej zaletą jest dobra skalowalność. Często spotykaną praktyką jest dodanie do tej architektury kolejnej warstwy *event sourcing*. Polega ona na tym, że każde zdarzenie jest przechowywane w bazie danych. Zaletą takiego podejścia jest to, że dostępny jest cały log wszystkich operacji, a co ważne w przypadku awari łatwo odtworzyć od zera system. Z *RabbitMQ* wystarczy dodać ścieżkę dla każdego zdarzenia, aby jeden worker kolekcjonował zdarzenia (zapisywał je do bazy danych).\n",
    "\n",
    "\n",
    "## Zadania do wykonania\n",
    "\n",
    "Zadanie 1. W środowisku *microservice* są dwa serwisy: `Order Service` i `Authentication Service`. Każdy z nich musi wysyłać maila do użytkownika z innego powodu. Pierwszy, aby poinformować użytkownika o zmianie jego status zamówienia, drugi aby wysłać mu przypomnienie hasła. Dane są następujące założenia:\n",
    "\n",
    "1. Wiadomości nie mogą zaginąć nawet, jeśli usługa zostanie zrestartowana.\n",
    "2. Każda wiadomość musi być przetworzona dokładnie jeden raz.\n",
    "3. Jeśli usługa wysyłająca maile zwróci błąd, wiadomość powinna trafić z powrotem do kolejki.\n",
    "4. Może być wiele *microservice* do wysyłania wiadomości."
   ]
  },
  {
   "cell_type": "code",
   "execution_count": 3,
   "metadata": {
    "dotnet_interactive": {
     "language": "csharp"
    },
    "polyglot_notebook": {
     "kernelName": "csharp"
    },
    "vscode": {
     "languageId": "polyglot-notebook"
    }
   },
   "outputs": [],
   "source": []
  }
 ],
 "metadata": {
  "kernelspec": {
   "display_name": ".NET (C#)",
   "language": "C#",
   "name": ".net-csharp"
  },
  "language_info": {
   "file_extension": ".cs",
   "mimetype": "text/x-csharp",
   "name": "C#",
   "pygments_lexer": "csharp",
   "version": "8.0"
  },
  "polyglot_notebook": {
   "kernelInfo": {
    "defaultKernelName": "csharp",
    "items": [
     {
      "aliases": [],
      "name": "csharp"
     }
    ]
   }
  }
 },
 "nbformat": 4,
 "nbformat_minor": 2
}
